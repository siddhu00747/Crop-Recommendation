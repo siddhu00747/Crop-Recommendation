{
 "cells": [
  {
   "cell_type": "code",
   "execution_count": 1,
   "id": "c70da0ad-bdc7-4e96-bdd6-3e38eda56c3b",
   "metadata": {},
   "outputs": [],
   "source": [
    "import pandas as pd\n",
    "import numpy as np\n",
    "from sklearn.model_selection import train_test_split\n",
    "from sklearn.preprocessing import StandardScaler\n",
    "from sklearn.ensemble import RandomForestClassifier\n",
    "from sklearn.linear_model import LogisticRegression\n",
    "from sklearn.metrics import accuracy_score, classification_report\n",
    "# import streamlit as st"
   ]
  },
  {
   "cell_type": "code",
   "execution_count": 2,
   "id": "22dc5e20-e6b2-4133-a03d-993b356e20fd",
   "metadata": {},
   "outputs": [],
   "source": [
    "# Load dataset\n",
    "df = pd.read_csv('Crop_Recommendation.csv')\n",
    "# st.write(\"### First 5 rows of Dataset\")\n",
    "# st.write(df.head())"
   ]
  },
  {
   "cell_type": "code",
   "execution_count": 3,
   "id": "1c4691ae-45de-4653-b943-970fcdee12f0",
   "metadata": {},
   "outputs": [],
   "source": [
    "# Split data into features and target\n",
    "X = df.drop('Crop', axis=1)\n",
    "y = df['Crop']\n",
    "\n",
    "# Data Preprocessing\n",
    "scaler = StandardScaler()\n",
    "X_scaled = scaler.fit_transform(X)"
   ]
  },
  {
   "cell_type": "code",
   "execution_count": 4,
   "id": "fa4b5d7f-e2be-44e2-b329-ae098c5318b3",
   "metadata": {},
   "outputs": [],
   "source": [
    "# Train-test split\n",
    "X_train, X_test, y_train, y_test = train_test_split(X_scaled, y, test_size=0.2, random_state=42)"
   ]
  },
  {
   "cell_type": "code",
   "execution_count": 5,
   "id": "0f6717fb-d1be-4a58-8c89-7cf996223904",
   "metadata": {},
   "outputs": [
    {
     "name": "stderr",
     "output_type": "stream",
     "text": [
      "C:\\Users\\siddh\\AppData\\Local\\Programs\\Python\\Python312\\Lib\\site-packages\\sklearn\\linear_model\\_logistic.py:460: ConvergenceWarning: lbfgs failed to converge (status=1):\n",
      "STOP: TOTAL NO. OF ITERATIONS REACHED LIMIT.\n",
      "\n",
      "Increase the number of iterations (max_iter) or scale the data as shown in:\n",
      "    https://scikit-learn.org/stable/modules/preprocessing.html\n",
      "Please also refer to the documentation for alternative solver options:\n",
      "    https://scikit-learn.org/stable/modules/linear_model.html#logistic-regression\n",
      "  n_iter_i = _check_optimize_result(\n"
     ]
    },
    {
     "data": {
      "text/html": [
       "<style>#sk-container-id-1 {color: black;}#sk-container-id-1 pre{padding: 0;}#sk-container-id-1 div.sk-toggleable {background-color: white;}#sk-container-id-1 label.sk-toggleable__label {cursor: pointer;display: block;width: 100%;margin-bottom: 0;padding: 0.3em;box-sizing: border-box;text-align: center;}#sk-container-id-1 label.sk-toggleable__label-arrow:before {content: \"▸\";float: left;margin-right: 0.25em;color: #696969;}#sk-container-id-1 label.sk-toggleable__label-arrow:hover:before {color: black;}#sk-container-id-1 div.sk-estimator:hover label.sk-toggleable__label-arrow:before {color: black;}#sk-container-id-1 div.sk-toggleable__content {max-height: 0;max-width: 0;overflow: hidden;text-align: left;background-color: #f0f8ff;}#sk-container-id-1 div.sk-toggleable__content pre {margin: 0.2em;color: black;border-radius: 0.25em;background-color: #f0f8ff;}#sk-container-id-1 input.sk-toggleable__control:checked~div.sk-toggleable__content {max-height: 200px;max-width: 100%;overflow: auto;}#sk-container-id-1 input.sk-toggleable__control:checked~label.sk-toggleable__label-arrow:before {content: \"▾\";}#sk-container-id-1 div.sk-estimator input.sk-toggleable__control:checked~label.sk-toggleable__label {background-color: #d4ebff;}#sk-container-id-1 div.sk-label input.sk-toggleable__control:checked~label.sk-toggleable__label {background-color: #d4ebff;}#sk-container-id-1 input.sk-hidden--visually {border: 0;clip: rect(1px 1px 1px 1px);clip: rect(1px, 1px, 1px, 1px);height: 1px;margin: -1px;overflow: hidden;padding: 0;position: absolute;width: 1px;}#sk-container-id-1 div.sk-estimator {font-family: monospace;background-color: #f0f8ff;border: 1px dotted black;border-radius: 0.25em;box-sizing: border-box;margin-bottom: 0.5em;}#sk-container-id-1 div.sk-estimator:hover {background-color: #d4ebff;}#sk-container-id-1 div.sk-parallel-item::after {content: \"\";width: 100%;border-bottom: 1px solid gray;flex-grow: 1;}#sk-container-id-1 div.sk-label:hover label.sk-toggleable__label {background-color: #d4ebff;}#sk-container-id-1 div.sk-serial::before {content: \"\";position: absolute;border-left: 1px solid gray;box-sizing: border-box;top: 0;bottom: 0;left: 50%;z-index: 0;}#sk-container-id-1 div.sk-serial {display: flex;flex-direction: column;align-items: center;background-color: white;padding-right: 0.2em;padding-left: 0.2em;position: relative;}#sk-container-id-1 div.sk-item {position: relative;z-index: 1;}#sk-container-id-1 div.sk-parallel {display: flex;align-items: stretch;justify-content: center;background-color: white;position: relative;}#sk-container-id-1 div.sk-item::before, #sk-container-id-1 div.sk-parallel-item::before {content: \"\";position: absolute;border-left: 1px solid gray;box-sizing: border-box;top: 0;bottom: 0;left: 50%;z-index: -1;}#sk-container-id-1 div.sk-parallel-item {display: flex;flex-direction: column;z-index: 1;position: relative;background-color: white;}#sk-container-id-1 div.sk-parallel-item:first-child::after {align-self: flex-end;width: 50%;}#sk-container-id-1 div.sk-parallel-item:last-child::after {align-self: flex-start;width: 50%;}#sk-container-id-1 div.sk-parallel-item:only-child::after {width: 0;}#sk-container-id-1 div.sk-dashed-wrapped {border: 1px dashed gray;margin: 0 0.4em 0.5em 0.4em;box-sizing: border-box;padding-bottom: 0.4em;background-color: white;}#sk-container-id-1 div.sk-label label {font-family: monospace;font-weight: bold;display: inline-block;line-height: 1.2em;}#sk-container-id-1 div.sk-label-container {text-align: center;}#sk-container-id-1 div.sk-container {/* jupyter's `normalize.less` sets `[hidden] { display: none; }` but bootstrap.min.css set `[hidden] { display: none !important; }` so we also need the `!important` here to be able to override the default hidden behavior on the sphinx rendered scikit-learn.org. See: https://github.com/scikit-learn/scikit-learn/issues/21755 */display: inline-block !important;position: relative;}#sk-container-id-1 div.sk-text-repr-fallback {display: none;}</style><div id=\"sk-container-id-1\" class=\"sk-top-container\"><div class=\"sk-text-repr-fallback\"><pre>LogisticRegression()</pre><b>In a Jupyter environment, please rerun this cell to show the HTML representation or trust the notebook. <br />On GitHub, the HTML representation is unable to render, please try loading this page with nbviewer.org.</b></div><div class=\"sk-container\" hidden><div class=\"sk-item\"><div class=\"sk-estimator sk-toggleable\"><input class=\"sk-toggleable__control sk-hidden--visually\" id=\"sk-estimator-id-1\" type=\"checkbox\" checked><label for=\"sk-estimator-id-1\" class=\"sk-toggleable__label sk-toggleable__label-arrow\">LogisticRegression</label><div class=\"sk-toggleable__content\"><pre>LogisticRegression()</pre></div></div></div></div></div>"
      ],
      "text/plain": [
       "LogisticRegression()"
      ]
     },
     "execution_count": 5,
     "metadata": {},
     "output_type": "execute_result"
    }
   ],
   "source": [
    "# Model Training\n",
    "# model = RandomForestClassifier(random_state=42)\n",
    "model = LogisticRegression()\n",
    "model.fit(X_train, y_train)"
   ]
  },
  {
   "cell_type": "code",
   "execution_count": 6,
   "id": "2eb094a9-5435-46be-b34f-38e57ed780b7",
   "metadata": {},
   "outputs": [],
   "source": [
    "# Model Evaluation\n",
    "y_pred = model.predict(X_test)\n",
    "# st.write(\"### Model Accuracy\")\n",
    "# st.write(accuracy_score(y_test, y_pred))\n",
    "# st.write(\"### Classification Report\")\n",
    "# st.write(classification_report(y_test, y_pred))\n",
    "\n",
    "# Streamlit UI for Prediction\n",
    "# st.title(\"Crop Recommendation System\")\n",
    "# st.sidebar.header(\"Enter Soil and Weather Conditions\")"
   ]
  },
  {
   "cell_type": "code",
   "execution_count": 7,
   "id": "d6fa778e-45ce-4007-a5fe-ec2877501e57",
   "metadata": {},
   "outputs": [
    {
     "name": "stdin",
     "output_type": "stream",
     "text": [
      "Nitrogen (N) 202\n",
      "Phosphorus (P) 20\n",
      "Potassium (K) 1\n",
      "Temperature (°C) 26\n",
      "Humidity (%) 54\n",
      "pH Value 2\n",
      "Rainfall (mm) 2\n"
     ]
    },
    {
     "name": "stdout",
     "output_type": "stream",
     "text": [
      "['Muskmelon']\n"
     ]
    },
    {
     "name": "stderr",
     "output_type": "stream",
     "text": [
      "C:\\Users\\siddh\\AppData\\Local\\Programs\\Python\\Python312\\Lib\\site-packages\\sklearn\\base.py:465: UserWarning: X does not have valid feature names, but StandardScaler was fitted with feature names\n",
      "  warnings.warn(\n"
     ]
    }
   ],
   "source": [
    "# Input fields\n",
    "nitrogen = input(\"Nitrogen (N)\")\n",
    "phosphorus = input(\"Phosphorus (P)\")\n",
    "potassium = input(\"Potassium (K)\")\n",
    "temperature = input(\"Temperature (°C)\")\n",
    "humidity = input(\"Humidity (%)\")\n",
    "pH = input(\"pH Value\")\n",
    "rainfall = input(\"Rainfall (mm)\")\n",
    "\n",
    "# Predict Crop\n",
    "# if st.sidebar.button(\"Recommend Crop\"):\n",
    "#     input_data = np.array([[nitrogen, phosphorus, potassium, temperature, humidity, pH, rainfall]])\n",
    "#     input_data_scaled = scaler.transform(input_data)\n",
    "#     prediction = model.predict(input_data_scaled)\n",
    "#     st.write(f\"### Recommended Crop: {prediction[0]}\")\n",
    "\n",
    "user_int = np.array([[nitrogen,phosphorus,potassium,temperature,humidity,pH,rainfall]])\n",
    "user = scaler.transform(user_int)\n",
    "prediction = model.predict(user)\n",
    "print(prediction)"
   ]
  },
  {
   "cell_type": "code",
   "execution_count": null,
   "id": "3ce04521-6e35-4b65-bc1f-718ca5ad3af7",
   "metadata": {},
   "outputs": [],
   "source": []
  },
  {
   "cell_type": "code",
   "execution_count": 8,
   "id": "d3e48a20-884b-473f-acf3-fc4f5a631b59",
   "metadata": {},
   "outputs": [
    {
     "data": {
      "text/plain": [
       "0.9636363636363636"
      ]
     },
     "execution_count": 8,
     "metadata": {},
     "output_type": "execute_result"
    }
   ],
   "source": [
    "accuracy_score(y_test,y_pred)"
   ]
  },
  {
   "cell_type": "code",
   "execution_count": 9,
   "id": "f2465bc4-4903-4852-ae18-8f3ee77b48a2",
   "metadata": {},
   "outputs": [],
   "source": [
    "from sklearn.metrics import classification_report"
   ]
  },
  {
   "cell_type": "code",
   "execution_count": 10,
   "id": "61f23d94-a2b5-43d8-88b1-a09c302bba89",
   "metadata": {},
   "outputs": [
    {
     "name": "stdout",
     "output_type": "stream",
     "text": [
      "              precision    recall  f1-score   support\n",
      "\n",
      "       Apple       1.00      1.00      1.00        23\n",
      "      Banana       1.00      1.00      1.00        21\n",
      "   Blackgram       0.90      0.95      0.93        20\n",
      "    ChickPea       1.00      1.00      1.00        26\n",
      "     Coconut       1.00      1.00      1.00        27\n",
      "      Coffee       0.94      1.00      0.97        17\n",
      "      Cotton       0.94      1.00      0.97        17\n",
      "      Grapes       1.00      1.00      1.00        14\n",
      "        Jute       0.83      0.87      0.85        23\n",
      " KidneyBeans       0.95      0.95      0.95        20\n",
      "      Lentil       0.85      1.00      0.92        11\n",
      "       Maize       1.00      0.95      0.98        21\n",
      "       Mango       1.00      1.00      1.00        19\n",
      "   MothBeans       1.00      0.92      0.96        24\n",
      "    MungBean       1.00      1.00      1.00        19\n",
      "   Muskmelon       1.00      1.00      1.00        17\n",
      "      Orange       1.00      1.00      1.00        14\n",
      "      Papaya       0.96      0.96      0.96        23\n",
      "  PigeonPeas       0.91      0.87      0.89        23\n",
      " Pomegranate       1.00      1.00      1.00        23\n",
      "        Rice       0.88      0.79      0.83        19\n",
      "  Watermelon       1.00      1.00      1.00        19\n",
      "\n",
      "    accuracy                           0.96       440\n",
      "   macro avg       0.96      0.97      0.96       440\n",
      "weighted avg       0.96      0.96      0.96       440\n",
      "\n"
     ]
    }
   ],
   "source": [
    "print(classification_report(y_test,y_pred))"
   ]
  },
  {
   "cell_type": "code",
   "execution_count": 13,
   "id": "488823b5-3650-4e1b-b917-734220b30271",
   "metadata": {},
   "outputs": [
    {
     "data": {
      "text/plain": [
       "Crop\n",
       "Rice           100\n",
       "Maize          100\n",
       "Jute           100\n",
       "Cotton         100\n",
       "Coconut        100\n",
       "Papaya         100\n",
       "Orange         100\n",
       "Apple          100\n",
       "Muskmelon      100\n",
       "Watermelon     100\n",
       "Grapes         100\n",
       "Mango          100\n",
       "Banana         100\n",
       "Pomegranate    100\n",
       "Lentil         100\n",
       "Blackgram      100\n",
       "MungBean       100\n",
       "MothBeans      100\n",
       "PigeonPeas     100\n",
       "KidneyBeans    100\n",
       "ChickPea       100\n",
       "Coffee         100\n",
       "Name: count, dtype: int64"
      ]
     },
     "execution_count": 13,
     "metadata": {},
     "output_type": "execute_result"
    }
   ],
   "source": [
    "df['Crop'].value_counts()"
   ]
  },
  {
   "cell_type": "code",
   "execution_count": null,
   "id": "6bd6a08c-5730-4749-8c3e-9b0d6b007463",
   "metadata": {},
   "outputs": [],
   "source": []
  },
  {
   "cell_type": "code",
   "execution_count": null,
   "id": "791c3702-c571-4c35-85db-92433628dcd2",
   "metadata": {},
   "outputs": [],
   "source": []
  },
  {
   "cell_type": "code",
   "execution_count": 15,
   "id": "70a7166f-0b07-4218-a3a6-953884eb1c3a",
   "metadata": {},
   "outputs": [],
   "source": [
    "import pickle as pkl"
   ]
  },
  {
   "cell_type": "code",
   "execution_count": 16,
   "id": "7b1a627a-efce-4b23-9150-72045db7e3e8",
   "metadata": {},
   "outputs": [],
   "source": [
    "with open('model.pkl','wb') as f:\n",
    "    pkl.dump(model,f)"
   ]
  },
  {
   "cell_type": "code",
   "execution_count": 17,
   "id": "a924b1fd-4cfa-48b6-943a-39506d312920",
   "metadata": {},
   "outputs": [],
   "source": [
    "with open('scaler.pkl','wb')as f:\n",
    "    pkl.dump(scaler.fit(X),f)"
   ]
  },
  {
   "cell_type": "code",
   "execution_count": null,
   "id": "bb767e58-80d8-4cb0-b599-3b2cff0fc28e",
   "metadata": {},
   "outputs": [],
   "source": [
    "# import joblib\n",
    "# joblib.dump(model,'model.pkl')\n",
    "# joblib.dump(scaler.fit(X),'model.pkl')"
   ]
  }
 ],
 "metadata": {
  "kernelspec": {
   "display_name": "Python 3 (ipykernel)",
   "language": "python",
   "name": "python3"
  },
  "language_info": {
   "codemirror_mode": {
    "name": "ipython",
    "version": 3
   },
   "file_extension": ".py",
   "mimetype": "text/x-python",
   "name": "python",
   "nbconvert_exporter": "python",
   "pygments_lexer": "ipython3",
   "version": "3.12.0"
  }
 },
 "nbformat": 4,
 "nbformat_minor": 5
}
